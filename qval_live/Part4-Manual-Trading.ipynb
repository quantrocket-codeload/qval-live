{
 "cells": [
  {
   "cell_type": "markdown",
   "metadata": {},
   "source": [
    "<a href=\"https://www.quantrocket.com\"><img alt=\"QuantRocket logo\" src=\"https://www.quantrocket.com/assets/img/notebook-header-logo.png\"></a><br>\n",
    "<a href=\"https://www.quantrocket.com/disclaimer/\">Disclaimer</a>"
   ]
  },
  {
   "cell_type": "markdown",
   "metadata": {},
   "source": [
    "# Manual Trading\n",
    "\n",
    "Before we schedule `qval-live` for live or paper trading, we'll run it manually to view the orders it would generate."
   ]
  },
  {
   "cell_type": "markdown",
   "metadata": {},
   "source": [
    "## Account allocation\n",
    "\n",
    "Before we can trade, we must allocate `qval-live` to one or more accounts, and specify how much of the account's capital to allocate. Open [quantrocket.moonshot.allocations.yml](quantrocket.moonshot.allocations.yml), edit the account number to match your live or paper IB account, and edit the capital allocation percentage as desired.\n",
    "\n",
    "If you don't already have a `quantrocket.moonshot.allocations.yml` in the `/codeload` directory (i.e. top level of the Jupyter file browser), you can execute the following command to copy it over. Otherwise, append the new allocation to your existing file."
   ]
  },
  {
   "cell_type": "code",
   "execution_count": 1,
   "metadata": {},
   "outputs": [],
   "source": [
    "# move file over unless it already exists\n",
    "![ -e /codeload/quantrocket.moonshot.allocations.y*ml ] && echo 'oops, the file already exists!' || mv quantrocket.moonshot.allocations.yml /codeload/"
   ]
  },
  {
   "cell_type": "markdown",
   "metadata": {},
   "source": [
    "## Collect trading calendar\n",
    "\n",
    "When we schedule live trading to run automatically, we'll utilize trading calendars from IB to control when the trading strategy should run. Moonshot also uses trading calendars in live trading to help validate that our historical price data is up-to-date. Therefore, to manually test trading, we must go ahead and collect the trading calendar now. Later we'll schedule the trading calendar to be re-collected regularly so that it stays up-to-date.\n",
    "\n",
    "> Since scheduling will be done using the CLI, we will go ahead and use that here as well.\n",
    "\n",
    "First, make sure IB Gateway is running:"
   ]
  },
  {
   "cell_type": "code",
   "execution_count": 2,
   "metadata": {},
   "outputs": [
    {
     "name": "stdout",
     "output_type": "stream",
     "text": [
      "ibg1:\n",
      "  status: running\n"
     ]
    }
   ],
   "source": [
    "!quantrocket launchpad start --wait"
   ]
  },
  {
   "cell_type": "markdown",
   "metadata": {},
   "source": [
    "Then, collect the calendar from IB:"
   ]
  },
  {
   "cell_type": "code",
   "execution_count": 3,
   "metadata": {},
   "outputs": [
    {
     "name": "stdout",
     "output_type": "stream",
     "text": [
      "status: the trading hours will be collected asynchronously\n"
     ]
    }
   ],
   "source": [
    "!quantrocket master collect-calendar --exchanges 'NYSE'"
   ]
  },
  {
   "cell_type": "markdown",
   "metadata": {},
   "source": [
    "Monitor flightlog for the completion message:\n",
    "\n",
    "```\n",
    "quantrocket.master: INFO Collecting trading hours for NYSE\n",
    "quantrocket.master: INFO Saved 100 total calendar records for NYSE\n",
    "```\n"
   ]
  },
  {
   "cell_type": "markdown",
   "metadata": {},
   "source": [
    "## Generate Moonshot orders\n",
    "\n",
    "Now we can try to run Moonshot and generate orders. Depending on how recently you collected data and whether the market is currently open, you might get an error like the following:"
   ]
  },
  {
   "cell_type": "code",
   "execution_count": 4,
   "metadata": {},
   "outputs": [
    {
     "name": "stdout",
     "output_type": "stream",
     "text": [
      "msg: expected signal date 2018-11-07 not found in weights DataFrame, is the underlying\n",
      "  data up-to-date? (max date is 2018-11-06)\n",
      "status: error\n"
     ]
    }
   ],
   "source": [
    "!quantrocket moonshot trade 'qval-live'"
   ]
  },
  {
   "cell_type": "markdown",
   "metadata": {},
   "source": [
    "Moonshot is trying to protect us from trading with stale data. For testing purposes we can work around this error by using the `--review-date` parameter to tell Moonshot to generate orders as if it were an earlier date. Set the review date to the max date from the previous error message. Moonshot returns a CSV of orders, which we format for the terminal with `csvlook`:"
   ]
  },
  {
   "cell_type": "code",
   "execution_count": 5,
   "metadata": {},
   "outputs": [
    {
     "name": "stdout",
     "output_type": "stream",
     "text": [
      "|  ConId | Account | Action | OrderRef  | TotalQuantity | Exchange | OrderType | Tif |\n",
      "| ------ | ------- | ------ | --------- | ------------- | -------- | --------- | --- |\n",
      "|  7,089 | DU12345 | BUY    | qval-live |         1,427 | SMART    | MOC       | DAY |\n",
      "|  9,204 | DU12345 | BUY    | qval-live |           742 | SMART    | MOC       | DAY |\n",
      "|  9,355 | DU12345 | BUY    | qval-live |           219 | SMART    | MOC       | DAY |\n",
      "| 11,109 | DU12345 | BUY    | qval-live |           699 | SMART    | MOC       | DAY |\n",
      "| 11,481 | DU12345 | BUY    | qval-live |        14,040 | SMART    | MOC       | DAY |\n",
      "|    ... | ...     | ...    | ...       |           ... | ...      | ...       | ... |\n"
     ]
    }
   ],
   "source": [
    "!quantrocket moonshot trade 'qval-live' --review-date '2018-11-06' | csvlook --max-rows 5"
   ]
  },
  {
   "cell_type": "markdown",
   "metadata": {},
   "source": [
    "***\n",
    "\n",
    "## *Next Up*\n",
    "\n",
    "Part 5: [Scheduling](Part5-Scheduling.ipynb)"
   ]
  }
 ],
 "metadata": {
  "kernelspec": {
   "display_name": "Python 3",
   "language": "python",
   "name": "python3"
  },
  "language_info": {
   "codemirror_mode": {
    "name": "ipython",
    "version": 3
   },
   "file_extension": ".py",
   "mimetype": "text/x-python",
   "name": "python",
   "nbconvert_exporter": "python",
   "pygments_lexer": "ipython3",
   "version": "3.6.6"
  }
 },
 "nbformat": 4,
 "nbformat_minor": 2
}
