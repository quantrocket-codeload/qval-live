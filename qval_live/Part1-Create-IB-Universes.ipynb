{
 "cells": [
  {
   "cell_type": "markdown",
   "metadata": {},
   "source": [
    "<a href=\"https://www.quantrocket.com\"><img alt=\"QuantRocket logo\" src=\"https://www.quantrocket.com/assets/img/notebook-header-logo.png\"></a><br>\n",
    "<a href=\"https://www.quantrocket.com/disclaimer/\">Disclaimer</a>"
   ]
  },
  {
   "cell_type": "markdown",
   "metadata": {},
   "source": [
    "# Universe Selection\n",
    "\n",
    "As a reminder, QVAL stipulates the following universe: \n",
    "\n",
    "* all NYSE stocks\n",
    "* exclude financials, ADRs, REITs\n",
    "\n",
    "To use Sharadar fundamentals with IB price data, we first need to re-create our universes in the IB master database (`quantrocket.master.main.sqlite`), since we previously created the universes in the Sharadar master database (`quantrocket.master.sharadar.sqlite`)."
   ]
  },
  {
   "cell_type": "markdown",
   "metadata": {},
   "source": [
    "# Collect NYSE listings\n",
    "\n",
    "The first step is to collect NYSE listing details from IB. First, start IB Gateway:"
   ]
  },
  {
   "cell_type": "code",
   "execution_count": 1,
   "metadata": {},
   "outputs": [
    {
     "data": {
      "text/plain": [
       "{'ibg1': {'status': 'running'}}"
      ]
     },
     "execution_count": 1,
     "metadata": {},
     "output_type": "execute_result"
    }
   ],
   "source": [
    "from quantrocket.launchpad import start_gateways\n",
    "start_gateways(wait=True)"
   ]
  },
  {
   "cell_type": "markdown",
   "metadata": {},
   "source": [
    "Then collect the NYSE stock listings:"
   ]
  },
  {
   "cell_type": "code",
   "execution_count": 2,
   "metadata": {},
   "outputs": [
    {
     "data": {
      "text/plain": [
       "{'status': 'the listing details will be collected asynchronously'}"
      ]
     },
     "execution_count": 2,
     "metadata": {},
     "output_type": "execute_result"
    }
   ],
   "source": [
    "from quantrocket.master import collect_listings\n",
    "collect_listings(exchanges=\"NYSE\", sec_types=\"STK\")"
   ]
  },
  {
   "cell_type": "markdown",
   "metadata": {},
   "source": [
    "Monitor flightlog for the completion message:\n",
    "\n",
    "```\n",
    "quantrocket.master: INFO Collecting NYSE STK listings from IB website\n",
    "quantrocket.master: INFO Requesting details for 8520 NYSE listings found on IB website (expected runtime: 0:20:09)\n",
    "quantrocket.master: INFO Saved 3111 NYSE listings to securities master database\n",
    "```"
   ]
  },
  {
   "cell_type": "markdown",
   "metadata": {},
   "source": [
    "## Create Universes\n",
    "\n",
    "### All NYSE securities\n",
    "\n",
    "First, download a CSV of all NYSE securities from the IB master: "
   ]
  },
  {
   "cell_type": "code",
   "execution_count": 3,
   "metadata": {},
   "outputs": [],
   "source": [
    "from quantrocket.master import download_master_file\n",
    "download_master_file(\"nyse_securities.csv\", exchanges=\"NYSE\")"
   ]
  },
  {
   "cell_type": "markdown",
   "metadata": {},
   "source": [
    "We can use the file to create the universe of all NYSE securities:"
   ]
  },
  {
   "cell_type": "code",
   "execution_count": 4,
   "metadata": {},
   "outputs": [
    {
     "data": {
      "text/plain": [
       "{'code': 'nyse-stk',\n",
       " 'provided': 3390,\n",
       " 'inserted': 3390,\n",
       " 'total_after_insert': 3390}"
      ]
     },
     "execution_count": 4,
     "metadata": {},
     "output_type": "execute_result"
    }
   ],
   "source": [
    "from quantrocket.master import create_universe\n",
    "create_universe(\"nyse-stk\", \"nyse_securities.csv\")"
   ]
  },
  {
   "cell_type": "markdown",
   "metadata": {},
   "source": [
    "### Financials\n",
    "\n",
    "Next we create a universe of financials so we can exclude them.\n",
    "\n",
    "First load the securities into Pandas and list the sectors:"
   ]
  },
  {
   "cell_type": "code",
   "execution_count": 5,
   "metadata": {},
   "outputs": [
    {
     "data": {
      "text/plain": [
       "array(['Consumer, Cyclical', 'Consumer, Non-cyclical', 'Financial', nan,\n",
       "       'Basic Materials', 'Utilities', 'Industrial', 'Communications',\n",
       "       'Energy', 'Government', 'Technology', 'Diversified'], dtype=object)"
      ]
     },
     "execution_count": 5,
     "metadata": {},
     "output_type": "execute_result"
    }
   ],
   "source": [
    "import pandas as pd\n",
    "nyse_securities = pd.read_csv(\"nyse_securities.csv\")\n",
    "nyse_securities.Sector.unique()"
   ]
  },
  {
   "cell_type": "markdown",
   "metadata": {},
   "source": [
    "In the IB data, the financial sector is called \"Financial\". We filter the DataFrame to stocks in this sector, write them to a file (we use an in-memory file so as not to clutter the hard drive), and upload the file to create the universe of financial stocks:"
   ]
  },
  {
   "cell_type": "code",
   "execution_count": 6,
   "metadata": {},
   "outputs": [
    {
     "data": {
      "text/plain": [
       "{'code': 'nyse-financials',\n",
       " 'provided': 1035,\n",
       " 'inserted': 1035,\n",
       " 'total_after_insert': 1035}"
      ]
     },
     "execution_count": 6,
     "metadata": {},
     "output_type": "execute_result"
    }
   ],
   "source": [
    "import io\n",
    "f = io.StringIO()\n",
    "nyse_securities[nyse_securities.Sector == \"Financial\"].to_csv(f)\n",
    "create_universe(\"nyse-financials\", f)"
   ]
  },
  {
   "cell_type": "markdown",
   "metadata": {},
   "source": [
    "## REITS\n",
    "\n",
    "Next we create a universe of REITs. From inspecting the master file we know that REITs are identified in the \"Industry\" column:\n",
    "\n",
    "> In the IB data, all REITS are actually categorized under the Financial sector, meaning that REITS would be excluded when we exclude financials, even if we didn't create a separate REIT universe."
   ]
  },
  {
   "cell_type": "code",
   "execution_count": 7,
   "metadata": {},
   "outputs": [
    {
     "data": {
      "text/plain": [
       "{'code': 'nyse-reits',\n",
       " 'provided': 393,\n",
       " 'inserted': 393,\n",
       " 'total_after_insert': 393}"
      ]
     },
     "execution_count": 7,
     "metadata": {},
     "output_type": "execute_result"
    }
   ],
   "source": [
    "f = io.StringIO()\n",
    "nyse_securities[nyse_securities.Industry.fillna(\"\").str.contains(\"REIT\")].to_csv(f)\n",
    "create_universe(\"nyse-reits\", f)"
   ]
  },
  {
   "cell_type": "markdown",
   "metadata": {},
   "source": [
    "## ADRs\n",
    "\n",
    "To find ADRs in the IB master file, we have to search the `LongName` field for the text \"ADR\". \n",
    "\n",
    "> Note the space in front of \" ADR\" in the below search, which is intended to prevent matching a word that ends with \"ADR\". Consider a regex search for finer-grained matching.\n",
    "\n",
    "First have a peek:"
   ]
  },
  {
   "cell_type": "code",
   "execution_count": 8,
   "metadata": {},
   "outputs": [
    {
     "data": {
      "text/html": [
       "<div>\n",
       "<style scoped>\n",
       "    .dataframe tbody tr th:only-of-type {\n",
       "        vertical-align: middle;\n",
       "    }\n",
       "\n",
       "    .dataframe tbody tr th {\n",
       "        vertical-align: top;\n",
       "    }\n",
       "\n",
       "    .dataframe thead th {\n",
       "        text-align: right;\n",
       "    }\n",
       "</style>\n",
       "<table border=\"1\" class=\"dataframe\">\n",
       "  <thead>\n",
       "    <tr style=\"text-align: right;\">\n",
       "      <th></th>\n",
       "      <th>Symbol</th>\n",
       "      <th>LongName</th>\n",
       "    </tr>\n",
       "  </thead>\n",
       "  <tbody>\n",
       "    <tr>\n",
       "      <th>22</th>\n",
       "      <td>AMX</td>\n",
       "      <td>AMERICA MOVIL-SPN ADR CL L</td>\n",
       "    </tr>\n",
       "    <tr>\n",
       "      <th>35</th>\n",
       "      <td>AU</td>\n",
       "      <td>ANGLOGOLD ASHANTI-SPON ADR</td>\n",
       "    </tr>\n",
       "    <tr>\n",
       "      <th>44</th>\n",
       "      <td>BBVA</td>\n",
       "      <td>BANCO BILBAO VIZCAYA-SP ADR</td>\n",
       "    </tr>\n",
       "    <tr>\n",
       "      <th>49</th>\n",
       "      <td>BCS</td>\n",
       "      <td>BARCLAYS PLC-SPONS ADR</td>\n",
       "    </tr>\n",
       "    <tr>\n",
       "      <th>60</th>\n",
       "      <td>BHP</td>\n",
       "      <td>BHP BILLITON LTD-SPON ADR</td>\n",
       "    </tr>\n",
       "  </tbody>\n",
       "</table>\n",
       "</div>"
      ],
      "text/plain": [
       "   Symbol                     LongName\n",
       "22    AMX   AMERICA MOVIL-SPN ADR CL L\n",
       "35     AU   ANGLOGOLD ASHANTI-SPON ADR\n",
       "44   BBVA  BANCO BILBAO VIZCAYA-SP ADR\n",
       "49    BCS       BARCLAYS PLC-SPONS ADR\n",
       "60    BHP    BHP BILLITON LTD-SPON ADR"
      ]
     },
     "execution_count": 8,
     "metadata": {},
     "output_type": "execute_result"
    }
   ],
   "source": [
    "adrs = nyse_securities[nyse_securities.LongName.str.contains(\" ADR\")]\n",
    "adrs[[\"Symbol\",\"LongName\"]].head()"
   ]
  },
  {
   "cell_type": "markdown",
   "metadata": {},
   "source": [
    "Then create the ADR universe:"
   ]
  },
  {
   "cell_type": "code",
   "execution_count": 9,
   "metadata": {},
   "outputs": [
    {
     "data": {
      "text/plain": [
       "{'code': 'nyse-adrs',\n",
       " 'provided': 144,\n",
       " 'inserted': 144,\n",
       " 'total_after_insert': 144}"
      ]
     },
     "execution_count": 9,
     "metadata": {},
     "output_type": "execute_result"
    }
   ],
   "source": [
    "f = io.StringIO()\n",
    "adrs.to_csv(f)\n",
    "create_universe(\"nyse-adrs\", f)"
   ]
  },
  {
   "cell_type": "markdown",
   "metadata": {},
   "source": [
    "***\n",
    "\n",
    "## *Next Up*\n",
    "\n",
    "Part 2: [Collect IB Historical Data](Part2-Collect-IB-Historical-Data.ipynb)"
   ]
  }
 ],
 "metadata": {
  "kernelspec": {
   "display_name": "Python 3",
   "language": "python",
   "name": "python3"
  },
  "language_info": {
   "codemirror_mode": {
    "name": "ipython",
    "version": 3
   },
   "file_extension": ".py",
   "mimetype": "text/x-python",
   "name": "python",
   "nbconvert_exporter": "python",
   "pygments_lexer": "ipython3",
   "version": "3.6.6"
  }
 },
 "nbformat": 4,
 "nbformat_minor": 2
}
