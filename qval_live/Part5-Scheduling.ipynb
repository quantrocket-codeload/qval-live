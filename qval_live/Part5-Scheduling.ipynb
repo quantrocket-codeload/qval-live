{
 "cells": [
  {
   "cell_type": "markdown",
   "metadata": {},
   "source": [
    "<a href=\"https://www.quantrocket.com\"><img alt=\"QuantRocket logo\" src=\"https://www.quantrocket.com/assets/img/notebook-header-logo.png\"></a>\n",
    "\n",
    "<a href=\"https://www.quantrocket.com/disclaimer/\">Disclaimer</a>"
   ]
  },
  {
   "cell_type": "markdown",
   "metadata": {},
   "source": [
    "# Scheduling\n",
    "\n",
    "To automate trading of the `qval-live` strategy, the remaining step is to schedule data to be collected and Moonshot to run at the appropriate times. Running cron jobs is the task of the `countdown` service. The example commands to run are provided in [quantrocket.countdown.crontab.sh](quantrocket.countdown.crontab.sh)."
   ]
  },
  {
   "cell_type": "markdown",
   "metadata": {},
   "source": [
    "## Crontab overview\n",
    "\n",
    "The highlights of the crontab are as follows."
   ]
  },
  {
   "cell_type": "markdown",
   "metadata": {},
   "source": [
    "### Data collection\n",
    "\n",
    "We collect Sharadar fundamentals each weekday in the early morning hours:\n",
    "```shell\n",
    "# Collect Sharadar fundamentals overnight \n",
    "0 3 * * * mon-fri quantrocket fundamental collect-sharadar  \n",
    "```\n",
    "\n",
    "We keep our trading calendar up-to-date by re-collecting it each morning:\n",
    "```shell\n",
    "# collect NYSE trading hours each morning (provides trading hours for the next month)\n",
    "30 8 * * mon-fri quantrocket master collect-calendar -e 'NYSE'\n",
    "```\n",
    "\n",
    "And we collect price history from IB each evening if the market was open that day:\n",
    "```shell\n",
    "# Collect IB history if market was open\n",
    "0 17 * * mon-fri quantrocket master isopen 'NYSE' --ago 6h && quantrocket history collect 'nyse-stk-1d' --priority\n",
    "```"
   ]
  },
  {
   "cell_type": "markdown",
   "metadata": {},
   "source": [
    "### Live/paper trading\n",
    "\n",
    "We schedule Moonshot to run on the first trading day of each quarter, mirroring the rebalancing interval of our backtest. As written, the following command will simply log the orders to flightlog; you can alter the command to send the orders to the blotter. You can read more about these commands in the usage guide."
   ]
  },
  {
   "cell_type": "markdown",
   "metadata": {},
   "source": [
    "```shell\n",
    "# Trade qval-live on the first day of the quarter. This command \"paper trades\" qval-live by logging orders to flightlog; to \n",
    "# live or paper trade with IB, send orders to blotter instead:\n",
    "#     ... quantrocket moonshot trade 'qval-live' | quantrocket blotter order -f -\n",
    "0 9 * * mon-fri quantrocket master isopen 'NYSE' --in 1h && quantrocket master isclosed 'NYSE' --since 'Q' && quantrocket moonshot trade 'qval-live' | quantrocket flightlog log -n 'quantrocket.moonshot'\n",
    "```"
   ]
  },
  {
   "cell_type": "markdown",
   "metadata": {},
   "source": [
    "## Install the crontab\n",
    "\n",
    "> This section assumes that you're not already using your `countdown` service for any scheduled tasks and that you haven't yet set its timezone. If you're already using `countdown`, you can edit your existing crontab, or add a new countdown service for New York tasks. See the usage guide for help.  \n",
    "\n",
    "All the commands on the provided crontab are intended to be run in New York time. By default, the countdown timezone is UTC:"
   ]
  },
  {
   "cell_type": "code",
   "execution_count": 1,
   "metadata": {},
   "outputs": [
    {
     "data": {
      "text/plain": [
       "{'timezone': 'UTC'}"
      ]
     },
     "execution_count": 1,
     "metadata": {},
     "output_type": "execute_result"
    }
   ],
   "source": [
    "from quantrocket.countdown import get_timezone, set_timezone\n",
    "get_timezone()"
   ]
  },
  {
   "cell_type": "markdown",
   "metadata": {},
   "source": [
    "So first, set the countdown timezone to New York time:"
   ]
  },
  {
   "cell_type": "code",
   "execution_count": 2,
   "metadata": {},
   "outputs": [
    {
     "data": {
      "text/plain": [
       "{'status': 'successfully set timezone to America/New_York'}"
      ]
     },
     "execution_count": 2,
     "metadata": {},
     "output_type": "execute_result"
    }
   ],
   "source": [
    "set_timezone(\"America/New_York\")"
   ]
  },
  {
   "cell_type": "markdown",
   "metadata": {},
   "source": [
    "Install the crontab by moving it to the `/codeload` directory. (First open a flightlog terminal so you can see if it loads successfully.)"
   ]
  },
  {
   "cell_type": "code",
   "execution_count": 3,
   "metadata": {},
   "outputs": [],
   "source": [
    "# move file over unless it already exists\n",
    "![ -e /codeload/quantrocket.countdown.crontab* ] && echo 'oops, the file already exists!' || mv quantrocket.countdown.crontab.sh /codeload/"
   ]
  },
  {
   "cell_type": "markdown",
   "metadata": {},
   "source": [
    "You should see a success message in flightlog:\n",
    "\n",
    "```\n",
    "quantrocket.countdown: INFO Successfully loaded quantrocket.countdown.crontab.sh\n",
    "```"
   ]
  },
  {
   "cell_type": "markdown",
   "metadata": {},
   "source": [
    "***\n",
    "\n",
    "[Back to Introduction](Introduction.ipynb)"
   ]
  }
 ],
 "metadata": {
  "kernelspec": {
   "display_name": "Python 3",
   "language": "python",
   "name": "python3"
  },
  "language_info": {
   "codemirror_mode": {
    "name": "ipython",
    "version": 3
   },
   "file_extension": ".py",
   "mimetype": "text/x-python",
   "name": "python",
   "nbconvert_exporter": "python",
   "pygments_lexer": "ipython3",
   "version": "3.6.6"
  }
 },
 "nbformat": 4,
 "nbformat_minor": 2
}
