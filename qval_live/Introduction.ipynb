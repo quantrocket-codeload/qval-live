{
 "cells": [
  {
   "cell_type": "markdown",
   "metadata": {},
   "source": [
    "<a href=\"https://www.quantrocket.com\"><img alt=\"QuantRocket logo\" src=\"https://www.quantrocket.com/assets/img/notebook-header-logo.png\"></a>\n",
    "\n",
    "<a href=\"https://www.quantrocket.com/disclaimer/\">Disclaimer</a>"
   ]
  },
  {
   "cell_type": "markdown",
   "metadata": {},
   "source": [
    "# QVAL: Quantitative Value - Live Trading\n",
    "\n",
    "This tutorial extends the `qval` tutorial with the steps needed to live trade the QVAL strategy. It assumes you have completed the `qval` tutorial.\n",
    "\n",
    "As with the `qval` tutorial, we'll use Sharadar fundamentals, but for live trading we switch from using Sharadar historical price data to IB price data. This will allow us to place orders with IB. We will also run a recent backtest with IB data as a sanity check to ensure the results resemble those with the Sharadar data.\n",
    "\n",
    "* Part 1: [Create IB Universes](Part1-Create-IB-Universes.ipynb)\n",
    "* Part 2: [Collect IB Historical Data](Part2-Collect-IB-Historical-Data.ipynb)\n",
    "* Part 3: [Moonshot Comparative Backtests](Part3-Moonshot-Comparative-Backtests.ipynb)\n",
    "* Part 4: [Manual Trading](Part4-Manual-Trading.ipynb)\n",
    "* Part 5: [Scheduling](Part5-Scheduling.ipynb)"
   ]
  }
 ],
 "metadata": {
  "kernelspec": {
   "display_name": "Python 3",
   "language": "python",
   "name": "python3"
  },
  "language_info": {
   "codemirror_mode": {
    "name": "ipython",
    "version": 3
   },
   "file_extension": ".py",
   "mimetype": "text/x-python",
   "name": "python",
   "nbconvert_exporter": "python",
   "pygments_lexer": "ipython3",
   "version": "3.6.6"
  }
 },
 "nbformat": 4,
 "nbformat_minor": 2
}
